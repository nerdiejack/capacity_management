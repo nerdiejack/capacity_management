{
 "cells": [
  {
   "cell_type": "markdown",
   "metadata": {},
   "source": [
    "# MyWebshop\n",
    "\n",
    "You just became the new IT Operations Manager of the MyWebshop Company. Unfortunately, MyWebshop has some stability issues as of late. You hypothesise that part of the stability issues are caused by capacity constraints. You petition the CIO to introduce a clear Capacity Management process to validate this hypothesis. The CIO agrees and arranges priority and budget. The architect provides you with the solution architecture (shown below) and your engineers already identified the key usage, utilisation and consumption metrics that drive the IT solution. All the data you need is provided in the csv files and the assignment guide is found below (with the actions marked with bullet points). \n",
    "Good luck!"
   ]
  },
  {
   "cell_type": "markdown",
   "metadata": {},
   "source": [
    "<img src=\"images/Architecture.png\" height=\"500\" width=\"500\" /><p></p>\n",
    "The dataset contains the following metrics per server type:\n",
    "<img src=\"images/Metrics.png\" height=\"300\" width=\"300\" /> </p></p>\n",
    "Do all the following exercises for all server types: web, app and DB."
   ]
  },
  {
   "cell_type": "markdown",
   "metadata": {},
   "source": [
    "### Get the data\n",
    "\n",
    "The first thing to do is get the csv file and put it into a format that is most handy to do statistics on. We suggest converting the csv table into a dataframe.\n",
    "But before that, we need some libraries. Handling datasets in Python is best done with the \"pandas\" library. You can convert the csv file into a dataframe using Pandas. \n",
    "* Import the pandas library.\n",
    "* Find and run the function within pandas to convert your csv's into a dataframe."
   ]
  },
  {
   "cell_type": "code",
   "execution_count": null,
   "metadata": {},
   "outputs": [],
   "source": []
  }
 ],
 "metadata": {
  "kernelspec": {
   "display_name": "Python 3",
   "language": "python",
   "name": "python3"
  },
  "language_info": {
   "codemirror_mode": {
    "name": "ipython",
    "version": 3
   },
   "file_extension": ".py",
   "mimetype": "text/x-python",
   "name": "python",
   "nbconvert_exporter": "python",
   "pygments_lexer": "ipython3",
   "version": "3.6.7"
  }
 },
 "nbformat": 4,
 "nbformat_minor": 2
}
